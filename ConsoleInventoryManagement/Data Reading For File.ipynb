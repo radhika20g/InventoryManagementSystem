{
 "cells": [
  {
   "cell_type": "code",
   "execution_count": 8,
   "id": "2e6372b9",
   "metadata": {},
   "outputs": [
    {
     "name": "stdout",
     "output_type": "stream",
     "text": [
      "2181\n"
     ]
    }
   ],
   "source": [
    "fd = open(\"data.txt\", 'r')\n",
    "txt = fd.read()\n",
    "fd.close()"
   ]
  },
  {
   "cell_type": "code",
   "execution_count": 13,
   "id": "85cc0055",
   "metadata": {},
   "outputs": [
    {
     "data": {
      "text/plain": [
       "\"CLIMATE OF INDIA  The climate of India consists of a wide range of weather conditions across a vast geographic scale and varied topography. Based on the KÃ¶ppen system, India hosts six major climatic sub types, ranging from arid deserts in the west, alpine tundra and glaciers in the north, and humid tropical regions supporting rain forests in the southwest and the island territories. Many regions have starkly different microclimates, making it one of the most climatically diverse countries in the world. The country's meteorological department follows the international standard of four seasons with some local adjustments: winter (December to February), summer (March to May), monsoon or rainy season (June to September), and a post-monsoon period (October and November).  India's geography and geology are climatically pivotal: the Thar Desert in the northwest and the Himalayas in the north work in tandem to create a culturally and economically important monsoonal regime. As Earth's highest and most massive mountain range, the Himalayas bar the influx of frigid katabatic winds from the icy Tibetan Plateau and northerly Central Asia. Most of North India is thus kept warm or is only mildly chilly or cold during winter; the same thermal dam keeps most regions in India hot in summer. The climate in South India is generally warmer, and more humid due to its coastlines. However some hill stations in South India such as Ooty are well known for their cold climate.  Though the Tropic of Cancerâ€”the boundary that is between the tropics and subtropicsâ€”passes through the middle of India, the bulk of the country can be regarded as climatically tropical. As in much of the tropics, monsoonal and other weather patterns in India can be strongly variable: epochal droughts, heat waves, floods, cyclones, and other natural disasters are sporadic, but have displaced or ended millions of human lives. Such climatic events are likely to change in frequency and severity as a consequence of human-induced climate change. Ongoing and future vegetative changes, sea level rise and inundation of India's low-lying coastal areas are also attributed to global warming.[2]\""
      ]
     },
     "execution_count": 13,
     "metadata": {},
     "output_type": "execute_result"
    }
   ],
   "source": [
    "txt"
   ]
  },
  {
   "cell_type": "code",
   "execution_count": 16,
   "id": "04a564f0",
   "metadata": {},
   "outputs": [
    {
     "name": "stdout",
     "output_type": "stream",
     "text": [
      "CLIMATE OF INDIA\n",
      "\n",
      "The climate of India consists of a wide range of weather conditions across a vast geographic scale and varied topography. Based on the KÃ¶ppen system, India hosts six major climatic sub types, ranging from arid deserts in the west, alpine tundra and glaciers in the north, and humid tropical regions supporting rain forests in the southwest and the island territories. Many regions have starkly different microclimates, making it one of the most climatically diverse countries in the world. The country's meteorological department follows the international standard of four seasons with some local adjustments: winter (December to February), summer (March to May), monsoon or rainy season (June to September), and a post-monsoon period (October and November).\n",
      "\n",
      "India's geography and geology are climatically pivotal: the Thar Desert in the northwest and the Himalayas in the north work in tandem to create a culturally and economically important monsoonal regime. As Earth's highest and most massive mountain range, the Himalayas bar the influx of frigid katabatic winds from the icy Tibetan Plateau and northerly Central Asia. Most of North India is thus kept warm or is only mildly chilly or cold during winter; the same thermal dam keeps most regions in India hot in summer. The climate in South India is generally warmer, and more humid due to its coastlines. However some hill stations in South India such as Ooty are well known for their cold climate.\n",
      "\n",
      "Though the Tropic of Cancerâ€”the boundary that is between the tropics and subtropicsâ€”passes through the middle of India, the bulk of the country can be regarded as climatically tropical. As in much of the tropics, monsoonal and other weather patterns in India can be strongly variable: epochal droughts, heat waves, floods, cyclones, and other natural disasters are sporadic, but have displaced or ended millions of human lives. Such climatic events are likely to change in frequency and severity as a consequence of human-induced climate change. Ongoing and future vegetative changes, sea level rise and inundation of India's low-lying coastal areas are also attributed to global warming.[2]\n"
     ]
    }
   ],
   "source": [
    "print(txt)"
   ]
  },
  {
   "cell_type": "markdown",
   "id": "57d37855",
   "metadata": {},
   "source": [
    "# Number of paragraphs"
   ]
  },
  {
   "cell_type": "code",
   "execution_count": 17,
   "id": "8018f4e0",
   "metadata": {},
   "outputs": [
    {
     "name": "stdout",
     "output_type": "stream",
     "text": [
      "4\n"
     ]
    }
   ],
   "source": [
    "per = txt.split(\"\\n\\n\")\n",
    "print(len(per))"
   ]
  },
  {
   "cell_type": "markdown",
   "id": "1350c8fe",
   "metadata": {},
   "source": [
    "# No of Lines in paragraph"
   ]
  },
  {
   "cell_type": "code",
   "execution_count": 19,
   "id": "46f07a8c",
   "metadata": {},
   "outputs": [
    {
     "name": "stdout",
     "output_type": "stream",
     "text": [
      "14\n"
     ]
    }
   ],
   "source": [
    "lines = txt.split(\".\")\n",
    "print(len(lines))"
   ]
  },
  {
   "cell_type": "markdown",
   "id": "83f0a18c",
   "metadata": {},
   "source": [
    "# No of words"
   ]
  },
  {
   "cell_type": "code",
   "execution_count": 20,
   "id": "9ee4c888",
   "metadata": {},
   "outputs": [
    {
     "data": {
      "text/plain": [
       "339"
      ]
     },
     "execution_count": 20,
     "metadata": {},
     "output_type": "execute_result"
    }
   ],
   "source": [
    "words = txt.split(\" \")\n",
    "len(words)"
   ]
  },
  {
   "cell_type": "markdown",
   "id": "f6c98df0",
   "metadata": {},
   "source": [
    "# Replacing numbers from the text"
   ]
  },
  {
   "cell_type": "code",
   "execution_count": 7,
   "id": "7f722717",
   "metadata": {},
   "outputs": [
    {
     "name": "stdout",
     "output_type": "stream",
     "text": [
      "CLIMATE OF INDIA\n",
      "\n",
      "The climate of India consists of a wide range of weather conditions across a vast geographic scale and varied topography. Based on the KÃ¶ppen system, India hosts six major climatic sub types, ranging from arid deserts in the west, alpine tundra and glaciers in the north, and humid tropical regions supporting rain forests in the southwest and the island territories. Many regions have starkly different microclimates, making it one of the most climatically diverse countries in the world. The country's meteorological department follows the international standard of four seasons with some local adjustments: winter (December to February), summer (March to May), monsoon or rainy season (June to September), and a post-monsoon period (October and November).\n",
      "\n",
      "India's geography and geology are climatically pivotal: the Thar Desert in the northwest and the Himalayas in the north work in tandem to create a culturally and economically important monsoonal regime. As Earth's highest and most massive mountain range, the Himalayas bar the influx of frigid katabatic winds from the icy Tibetan Plateau and northerly Central Asia. Most of North India is thus kept warm or is only mildly chilly or cold during winter; the same thermal dam keeps most regions in India hot in summer. The climate in South India is generally warmer, and more humid due to its coastlines. However some hill stations in South India such as Ooty are well known for their cold climate.\n",
      "\n",
      "Though the Tropic of Cancerâ€”the boundary that is between the tropics and subtropicsâ€”passes through the middle of India, the bulk of the country can be regarded as climatically tropical. As in much of the tropics, monsoonal and other weather patterns in India can be strongly variable: epochal droughts, heat waves, floods, cyclones, and other natural disasters are sporadic, but have displaced or ended millions of human lives. Such climatic events are likely to change in frequency and severity as a consequence of human-induced climate change. Ongoing and future vegetative changes, sea level rise and inundation of India's low-lying coastal areas are also attributed to global warming.\n"
     ]
    }
   ],
   "source": [
    "for i in range(1,5):\n",
    "    s = \"[\" + str(i) + \"]\"\n",
    "    txt = txt.replace(s, \"\")\n",
    "print(txt)"
   ]
  },
  {
   "cell_type": "code",
   "execution_count": null,
   "id": "ec504dbc",
   "metadata": {},
   "outputs": [],
   "source": []
  }
 ],
 "metadata": {
  "kernelspec": {
   "display_name": "Python 3 (ipykernel)",
   "language": "python",
   "name": "python3"
  },
  "language_info": {
   "codemirror_mode": {
    "name": "ipython",
    "version": 3
   },
   "file_extension": ".py",
   "mimetype": "text/x-python",
   "name": "python",
   "nbconvert_exporter": "python",
   "pygments_lexer": "ipython3",
   "version": "3.9.7"
  }
 },
 "nbformat": 4,
 "nbformat_minor": 5
}
