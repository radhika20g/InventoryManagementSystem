{
 "cells": [
  {
   "cell_type": "code",
   "execution_count": 10,
   "id": "4178d5d4",
   "metadata": {},
   "outputs": [
    {
     "name": "stderr",
     "output_type": "stream",
     "text": [
      "INFO:root:Reading the inventory from the file\n",
      "INFO:root:Displaying available inventory\n",
      "INFO:root:Collecting user input\n"
     ]
    },
    {
     "name": "stdout",
     "output_type": "stream",
     "text": [
      "Available Inventory: \n",
      "Product ID | Product Name | Price  | Qty \n",
      "1          | 5 Star       | 5      | 18  \n",
      "2          | Samosa       | 12     | 48  \n",
      "3          | Orange Bar   | 15     | 100 \n",
      "4          | Choco Bar    | 10     | 77  \n",
      "Enter your name: Amaz\n",
      "Enter the phone number: 9876556456\n",
      "Enter the email id: amaz@yahoo.com\n",
      "Enter the product id: 3\n",
      "Enter the quantity of the product: 10\n"
     ]
    },
    {
     "name": "stderr",
     "output_type": "stream",
     "text": [
      "INFO:root:Processing purchase for product ID: 3\n",
      "INFO:root:Recording sale for product ID: 3\n",
      "INFO:root:Updating inventory file for product ID: 3\n"
     ]
    },
    {
     "name": "stdout",
     "output_type": "stream",
     "text": [
      "Bill:\n",
      "-----------------------------\n",
      "Product Name     :  Orange Bar\n",
      "Price            :  15\n",
      "Quantity         :  10\n",
      "-----------------------------\n",
      "Billing Amount   :  150.0\n",
      "-----------------------------\n",
      "Inventory Updated\n"
     ]
    }
   ],
   "source": [
    "import logging, time\n",
    "\n",
    "#configuring logging\n",
    "logging.basicConfig(level=logging.INFO)\n",
    "\n",
    "def read_inventory():\n",
    "    logging.info(\"Reading the inventory from the file\")\n",
    "    try:\n",
    "        with open(\"inventory.txt\",\"r\") as fd:\n",
    "            products = fd.read().split(\"\\n\")\n",
    "        return products\n",
    "    except FileNotFoundError:\n",
    "        logging.error(\"Inventory file not found\")\n",
    "        return []\n",
    "\n",
    "def display_inventory(products):\n",
    "    logging.info(\"Displaying available inventory\")\n",
    "    # Define fixed widths for each column\n",
    "    id_width, name_width, price_width, qty_width = 10, 12, 6, 4\n",
    "    print(\"Available Inventory: \")\n",
    "    # Print the header\n",
    "    print(f\"{'Product ID':<{id_width}} | {'Product Name':<{name_width}} | {'Price':<{price_width}} | {'Qty':<{qty_width}}\")\n",
    "    \n",
    "    for product in products:\n",
    "        details = product.split(\",\")\n",
    "        # Format the details as a table row with fixed widths\n",
    "        print(f\"{details[0]:<{id_width}} | {details[1]:<{name_width}} | {details[2]:<{price_width}} | {details[3]:<{qty_width}}\")\n",
    "\n",
    "def get_user_input():\n",
    "    logging.info(\"Collecting user input\")\n",
    "    ui_username = input(\"Enter your name: \")\n",
    "    ui_phone = input(\"Enter the phone number: \")\n",
    "    ui_email = input(\"Enter the email id: \")\n",
    "    ui_prod_id = input(\"Enter the product id: \")\n",
    "    ui_prod_qty = input(\"Enter the quantity of the product: \")\n",
    "    return ui_username, ui_phone, ui_email, ui_prod_id, ui_prod_qty\n",
    "\n",
    "def process_purchase(products, ui_prod_id, ui_prod_qty, ui_username, ui_phone, ui_email):\n",
    "    logging.info(\"Processing purchase for product ID: %s\", ui_prod_id)\n",
    "    updated_inventory = []\n",
    "    total_cost = 0 # Initialize total cost\n",
    "    for product in products:\n",
    "        prod_details = product.split(\",\")\n",
    "        if ui_prod_id == prod_details[0]:\n",
    "            if int(ui_prod_qty) <= int(prod_details[3]):\n",
    "                # Process purchase and update inventory\n",
    "                updated_prod_details = prod_details.copy()\n",
    "                updated_prod_details[3] = str(int(prod_details[3]) - int(ui_prod_qty))\n",
    "                updated_inventory.append(updated_prod_details)\n",
    "                # Calculate the total cost\n",
    "                total_cost += int(ui_prod_qty) * float(prod_details[2])\n",
    "                # Print the bill\n",
    "                print(\"Bill:\")\n",
    "                print(\"-----------------------------\")\n",
    "                print(\"Product Name     : \", prod_details[1])\n",
    "                print(\"Price            : \", prod_details[2]) \n",
    "                print(\"Quantity         : \", ui_prod_qty) \n",
    "                print(\"-----------------------------\")\n",
    "                print(\"Billing Amount   : \", total_cost)\n",
    "                print(\"-----------------------------\")\n",
    "                # Record sale\n",
    "                record_sale(ui_username, ui_phone, ui_email, prod_details, ui_prod_qty)\n",
    "            else:\n",
    "                logging.warning(\"Insufficient quantity for product ID: %s\", ui_prod_id)\n",
    "    return updated_inventory\n",
    "\n",
    "\n",
    "def record_sale(ui_username, ui_phone, ui_email, prod_details, ui_prod_qty):\n",
    "    logging.info(\"Recording sale for product ID: %s\", prod_details[0])\n",
    "    # Use tuple unpacking to assign widths\n",
    "    username_width, phone_width, email_width, product_name_width, product_id_width, quantity_width, price_width, date_width = 10, 12, 20, 10, 4, 4, 4, 10\n",
    "    \n",
    "    # Format the sales detail as a table row with fixed widths\n",
    "    sales_detail = f\"{ui_username:<{username_width}} | {ui_phone:<{phone_width}} | {ui_email:<{email_width}} | {prod_details[1]:<{product_name_width}} | {prod_details[0]:<{product_id_width}} | {ui_prod_qty:<{quantity_width}} | {prod_details[2]:<{price_width}} | {time.ctime():<{date_width}}\\n\"\n",
    "    \n",
    "    with open(\"sales.txt\", \"a\") as fd:\n",
    "        fd.write(sales_detail)\n",
    "        \n",
    "def update_inventory_file(ui_prod_id, ui_prod_qty):\n",
    "    logging.info(\"Updating inventory file for product ID: %s\", ui_prod_id)\n",
    "    \n",
    "    # Step 1: Read the entire file\n",
    "    with open('inventory.txt', 'r') as file:\n",
    "        lines = file.readlines()\n",
    "    \n",
    "    # Step 2: Find and update the product\n",
    "    for i, line in enumerate(lines):\n",
    "        details = line.strip().split(\",\")\n",
    "        if details[0] == ui_prod_id:\n",
    "            # Update the quantity\n",
    "            updated_quantity = int(details[3]) - int(ui_prod_qty)\n",
    "            details[3] = str(updated_quantity)\n",
    "            # Replace the line with the updated details\n",
    "            lines[i] = \",\".join(details) + \"\\n\"\n",
    "            break # Assuming each product ID is unique\n",
    "    \n",
    "    # Step 3: Write the updated inventory back to the file\n",
    "    with open('inventory.txt', 'w') as file:\n",
    "        file.writelines(lines)\n",
    "\n",
    "        \n",
    "def main():\n",
    "    try:\n",
    "        products = read_inventory()\n",
    "        display_inventory(products)\n",
    "        ui_username, ui_phone, ui_email, ui_prod_id, ui_prod_qty = get_user_input()\n",
    "        updated_inventory = process_purchase(products, ui_prod_id, ui_prod_qty, ui_username, ui_phone, ui_email)\n",
    "        update_inventory_file(ui_prod_id, ui_prod_qty)\n",
    "        print(\"Inventory Updated\")\n",
    "    except Exception as e:\n",
    "        logging.error(\"An error occurred: %s\", str(e))\n",
    "\n",
    "main()"
   ]
  },
  {
   "cell_type": "code",
   "execution_count": 18,
   "id": "553c400a",
   "metadata": {},
   "outputs": [
    {
     "name": "stdout",
     "output_type": "stream",
     "text": [
      "['1', '5 Star', '5', '18']\n"
     ]
    }
   ],
   "source": [
    "fd = open(\"Inventory.txt\",\"r\")\n",
    "products = fd.read().split(\"\\n\")\n",
    "for product in products:\n",
    "    product = product.split(\",\")\n",
    "    if(product[0] == \"1\"):\n",
    "        print(product)"
   ]
  },
  {
   "cell_type": "code",
   "execution_count": 33,
   "id": "1d926752",
   "metadata": {},
   "outputs": [
    {
     "name": "stdout",
     "output_type": "stream",
     "text": [
      "330\n"
     ]
    }
   ],
   "source": [
    "print(110*3)"
   ]
  },
  {
   "cell_type": "code",
   "execution_count": 34,
   "id": "2eed24d2",
   "metadata": {},
   "outputs": [
    {
     "name": "stdout",
     "output_type": "stream",
     "text": [
      "13720\n"
     ]
    }
   ],
   "source": [
    "print(4750+1500+3000+3600+540+330)"
   ]
  },
  {
   "cell_type": "code",
   "execution_count": 35,
   "id": "7d2d4f0b",
   "metadata": {},
   "outputs": [
    {
     "ename": "SyntaxError",
     "evalue": "invalid syntax (Temp/ipykernel_18004/9281485.py, line 1)",
     "output_type": "error",
     "traceback": [
      "\u001b[1;36m  File \u001b[1;32m\"C:\\Users\\CW\\AppData\\Local\\Temp/ipykernel_18004/9281485.py\"\u001b[1;36m, line \u001b[1;32m1\u001b[0m\n\u001b[1;33m    print(13720+12%)\u001b[0m\n\u001b[1;37m                   ^\u001b[0m\n\u001b[1;31mSyntaxError\u001b[0m\u001b[1;31m:\u001b[0m invalid syntax\n"
     ]
    }
   ],
   "source": [
    "print(13720+)"
   ]
  }
 ],
 "metadata": {
  "kernelspec": {
   "display_name": "Python 3 (ipykernel)",
   "language": "python",
   "name": "python3"
  },
  "language_info": {
   "codemirror_mode": {
    "name": "ipython",
    "version": 3
   },
   "file_extension": ".py",
   "mimetype": "text/x-python",
   "name": "python",
   "nbconvert_exporter": "python",
   "pygments_lexer": "ipython3",
   "version": "3.9.7"
  }
 },
 "nbformat": 4,
 "nbformat_minor": 5
}
