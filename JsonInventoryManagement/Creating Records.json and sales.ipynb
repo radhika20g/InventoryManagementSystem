{
 "cells": [
  {
   "cell_type": "code",
   "execution_count": 3,
   "id": "c0dae0b2",
   "metadata": {},
   "outputs": [],
   "source": [
    "records = {1: {\"Name\": \"Milky Bar\", \"Price\": 20, \"Qty\":20},\n",
    "           2: {\"Name\": \"Mango Dolly\", \"Price\": 15, \"Qty\":40},\n",
    "           3: {\"Name\": \"Coffee\", \"Price\": 100, \"Qty\":50},\n",
    "           4: {\"Name\": \"Nutella\", \"Price\": 300, \"Qty\":10},\n",
    "           5: {\"Name\": \"Chocolate Brownie\", \"Price\": 150, \"Qty\":25},\n",
    "           6: {\"Name\": \"Pizza\", \"Price\": 400, \"Qty\":10}\n",
    "          }"
   ]
  },
  {
   "cell_type": "code",
   "execution_count": 4,
   "id": "dd29bc44",
   "metadata": {},
   "outputs": [],
   "source": [
    "import json\n",
    "fd = open(\"Records.json\", \"w\")\n",
    "js = json.dumps(records)\n",
    "fd.write(js)\n",
    "fd.close()"
   ]
  },
  {
   "cell_type": "markdown",
   "id": "029ac2f5",
   "metadata": {},
   "source": [
    "## Creating sales file "
   ]
  },
  {
   "cell_type": "code",
   "execution_count": 13,
   "id": "94e93a55",
   "metadata": {},
   "outputs": [],
   "source": [
    "temp = \"Name | Email Id | Phone No | Product | Price | Qty | Total | Time |\""
   ]
  },
  {
   "cell_type": "code",
   "execution_count": 2,
   "id": "e64aec1f",
   "metadata": {},
   "outputs": [],
   "source": [
    "fd = open(\"Sales.txt\", \"a\")\n",
    "fd.write(\"Name | Email Id | Phone No | Product | Price | Qty | Total | Time |\\n\")\n",
    "fd.close()"
   ]
  }
 ],
 "metadata": {
  "kernelspec": {
   "display_name": "Python 3 (ipykernel)",
   "language": "python",
   "name": "python3"
  },
  "language_info": {
   "codemirror_mode": {
    "name": "ipython",
    "version": 3
   },
   "file_extension": ".py",
   "mimetype": "text/x-python",
   "name": "python",
   "nbconvert_exporter": "python",
   "pygments_lexer": "ipython3",
   "version": "3.9.7"
  }
 },
 "nbformat": 4,
 "nbformat_minor": 5
}
